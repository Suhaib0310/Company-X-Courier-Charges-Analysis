{
 "cells": [
  {
   "cell_type": "code",
   "execution_count": 1,
   "id": "7e7fa022",
   "metadata": {},
   "outputs": [],
   "source": [
    "import pandas as pd\n",
    "import numpy as np"
   ]
  },
  {
   "cell_type": "code",
   "execution_count": 2,
   "id": "3e2c6296",
   "metadata": {},
   "outputs": [],
   "source": [
    "# importing all the relevent excel files.\n",
    "\n",
    "order_table = pd.read_excel('Company X - Order Report.xlsx')\n",
    "pincode_table = pd.read_excel('Company X - Pincode Zones.xlsx')\n",
    "skumaster_table = pd.read_excel('Company X - SKU Master.xlsx')\n",
    "invoice_table = pd.read_excel('Courier Company - Invoice.xlsx')\n",
    "courier_rates_table = pd.read_excel('Courier Company - Rates.xlsx')"
   ]
  },
  {
   "cell_type": "code",
   "execution_count": 3,
   "id": "07a7f786",
   "metadata": {},
   "outputs": [
    {
     "data": {
      "text/html": [
       "<div>\n",
       "<style scoped>\n",
       "    .dataframe tbody tr th:only-of-type {\n",
       "        vertical-align: middle;\n",
       "    }\n",
       "\n",
       "    .dataframe tbody tr th {\n",
       "        vertical-align: top;\n",
       "    }\n",
       "\n",
       "    .dataframe thead th {\n",
       "        text-align: right;\n",
       "    }\n",
       "</style>\n",
       "<table border=\"1\" class=\"dataframe\">\n",
       "  <thead>\n",
       "    <tr style=\"text-align: right;\">\n",
       "      <th></th>\n",
       "      <th>ExternOrderNo</th>\n",
       "      <th>SKU</th>\n",
       "      <th>Order Qty</th>\n",
       "    </tr>\n",
       "  </thead>\n",
       "  <tbody>\n",
       "    <tr>\n",
       "      <th>0</th>\n",
       "      <td>2001827036</td>\n",
       "      <td>8904223818706</td>\n",
       "      <td>1.0</td>\n",
       "    </tr>\n",
       "    <tr>\n",
       "      <th>1</th>\n",
       "      <td>2001827036</td>\n",
       "      <td>8904223819093</td>\n",
       "      <td>1.0</td>\n",
       "    </tr>\n",
       "    <tr>\n",
       "      <th>2</th>\n",
       "      <td>2001827036</td>\n",
       "      <td>8904223819109</td>\n",
       "      <td>1.0</td>\n",
       "    </tr>\n",
       "    <tr>\n",
       "      <th>3</th>\n",
       "      <td>2001827036</td>\n",
       "      <td>8904223818430</td>\n",
       "      <td>1.0</td>\n",
       "    </tr>\n",
       "    <tr>\n",
       "      <th>4</th>\n",
       "      <td>2001827036</td>\n",
       "      <td>8904223819277</td>\n",
       "      <td>1.0</td>\n",
       "    </tr>\n",
       "  </tbody>\n",
       "</table>\n",
       "</div>"
      ],
      "text/plain": [
       "   ExternOrderNo            SKU  Order Qty\n",
       "0     2001827036  8904223818706        1.0\n",
       "1     2001827036  8904223819093        1.0\n",
       "2     2001827036  8904223819109        1.0\n",
       "3     2001827036  8904223818430        1.0\n",
       "4     2001827036  8904223819277        1.0"
      ]
     },
     "execution_count": 3,
     "metadata": {},
     "output_type": "execute_result"
    }
   ],
   "source": [
    "order_table.head()"
   ]
  },
  {
   "cell_type": "code",
   "execution_count": 4,
   "id": "487641b5",
   "metadata": {},
   "outputs": [],
   "source": [
    "# pincode_table.head()"
   ]
  },
  {
   "cell_type": "code",
   "execution_count": 5,
   "id": "8fc643d3",
   "metadata": {},
   "outputs": [
    {
     "data": {
      "text/html": [
       "<div>\n",
       "<style scoped>\n",
       "    .dataframe tbody tr th:only-of-type {\n",
       "        vertical-align: middle;\n",
       "    }\n",
       "\n",
       "    .dataframe tbody tr th {\n",
       "        vertical-align: top;\n",
       "    }\n",
       "\n",
       "    .dataframe thead th {\n",
       "        text-align: right;\n",
       "    }\n",
       "</style>\n",
       "<table border=\"1\" class=\"dataframe\">\n",
       "  <thead>\n",
       "    <tr style=\"text-align: right;\">\n",
       "      <th></th>\n",
       "      <th>SKU</th>\n",
       "      <th>Weight (g)</th>\n",
       "    </tr>\n",
       "  </thead>\n",
       "  <tbody>\n",
       "    <tr>\n",
       "      <th>0</th>\n",
       "      <td>8904223815682</td>\n",
       "      <td>210</td>\n",
       "    </tr>\n",
       "    <tr>\n",
       "      <th>1</th>\n",
       "      <td>8904223815859</td>\n",
       "      <td>165</td>\n",
       "    </tr>\n",
       "    <tr>\n",
       "      <th>2</th>\n",
       "      <td>8904223815866</td>\n",
       "      <td>113</td>\n",
       "    </tr>\n",
       "    <tr>\n",
       "      <th>3</th>\n",
       "      <td>8904223815873</td>\n",
       "      <td>65</td>\n",
       "    </tr>\n",
       "    <tr>\n",
       "      <th>4</th>\n",
       "      <td>8904223816214</td>\n",
       "      <td>120</td>\n",
       "    </tr>\n",
       "  </tbody>\n",
       "</table>\n",
       "</div>"
      ],
      "text/plain": [
       "             SKU  Weight (g)\n",
       "0  8904223815682         210\n",
       "1  8904223815859         165\n",
       "2  8904223815866         113\n",
       "3  8904223815873          65\n",
       "4  8904223816214         120"
      ]
     },
     "execution_count": 5,
     "metadata": {},
     "output_type": "execute_result"
    }
   ],
   "source": [
    "skumaster_table.head()"
   ]
  },
  {
   "cell_type": "code",
   "execution_count": 6,
   "id": "d15c7b93",
   "metadata": {},
   "outputs": [],
   "source": [
    "# invoice_table.head()"
   ]
  },
  {
   "cell_type": "code",
   "execution_count": 7,
   "id": "2958f6d1",
   "metadata": {},
   "outputs": [
    {
     "data": {
      "text/html": [
       "<div>\n",
       "<style scoped>\n",
       "    .dataframe tbody tr th:only-of-type {\n",
       "        vertical-align: middle;\n",
       "    }\n",
       "\n",
       "    .dataframe tbody tr th {\n",
       "        vertical-align: top;\n",
       "    }\n",
       "\n",
       "    .dataframe thead th {\n",
       "        text-align: right;\n",
       "    }\n",
       "</style>\n",
       "<table border=\"1\" class=\"dataframe\">\n",
       "  <thead>\n",
       "    <tr style=\"text-align: right;\">\n",
       "      <th></th>\n",
       "      <th>Zone</th>\n",
       "      <th>Weight Slabs</th>\n",
       "      <th>Forward Fixed Charge</th>\n",
       "      <th>Forward Additional Weight Slab Charge</th>\n",
       "      <th>RTO Fixed Charge</th>\n",
       "      <th>RTO Additional Weight Slab Charge</th>\n",
       "    </tr>\n",
       "  </thead>\n",
       "  <tbody>\n",
       "    <tr>\n",
       "      <th>0</th>\n",
       "      <td>A</td>\n",
       "      <td>0.25</td>\n",
       "      <td>29.5</td>\n",
       "      <td>23.6</td>\n",
       "      <td>13.6</td>\n",
       "      <td>23.6</td>\n",
       "    </tr>\n",
       "    <tr>\n",
       "      <th>1</th>\n",
       "      <td>B</td>\n",
       "      <td>0.50</td>\n",
       "      <td>33.0</td>\n",
       "      <td>28.3</td>\n",
       "      <td>20.5</td>\n",
       "      <td>28.3</td>\n",
       "    </tr>\n",
       "    <tr>\n",
       "      <th>2</th>\n",
       "      <td>C</td>\n",
       "      <td>0.75</td>\n",
       "      <td>40.1</td>\n",
       "      <td>38.9</td>\n",
       "      <td>31.9</td>\n",
       "      <td>38.9</td>\n",
       "    </tr>\n",
       "    <tr>\n",
       "      <th>3</th>\n",
       "      <td>D</td>\n",
       "      <td>1.25</td>\n",
       "      <td>45.4</td>\n",
       "      <td>44.8</td>\n",
       "      <td>41.3</td>\n",
       "      <td>44.8</td>\n",
       "    </tr>\n",
       "    <tr>\n",
       "      <th>4</th>\n",
       "      <td>E</td>\n",
       "      <td>1.50</td>\n",
       "      <td>56.6</td>\n",
       "      <td>55.5</td>\n",
       "      <td>50.7</td>\n",
       "      <td>55.5</td>\n",
       "    </tr>\n",
       "  </tbody>\n",
       "</table>\n",
       "</div>"
      ],
      "text/plain": [
       "  Zone  Weight Slabs  Forward Fixed Charge  \\\n",
       "0    A          0.25                  29.5   \n",
       "1    B          0.50                  33.0   \n",
       "2    C          0.75                  40.1   \n",
       "3    D          1.25                  45.4   \n",
       "4    E          1.50                  56.6   \n",
       "\n",
       "   Forward Additional Weight Slab Charge  RTO Fixed Charge  \\\n",
       "0                                   23.6              13.6   \n",
       "1                                   28.3              20.5   \n",
       "2                                   38.9              31.9   \n",
       "3                                   44.8              41.3   \n",
       "4                                   55.5              50.7   \n",
       "\n",
       "   RTO Additional Weight Slab Charge  \n",
       "0                               23.6  \n",
       "1                               28.3  \n",
       "2                               38.9  \n",
       "3                               44.8  \n",
       "4                               55.5  "
      ]
     },
     "execution_count": 7,
     "metadata": {},
     "output_type": "execute_result"
    }
   ],
   "source": [
    "courier_rates_table.head()"
   ]
  },
  {
   "cell_type": "markdown",
   "id": "dbc6dd6e",
   "metadata": {},
   "source": [
    "## Capitalizing the Zone column in pincode table and invoice table."
   ]
  },
  {
   "cell_type": "code",
   "execution_count": 8,
   "id": "3415e3cb",
   "metadata": {},
   "outputs": [],
   "source": [
    "pincode_table['Zone'] = pincode_table['Zone'].apply(lambda x: x.capitalize())\n",
    "invoice_table['Zone']= invoice_table['Zone'].apply(lambda x: x.capitalize())"
   ]
  },
  {
   "cell_type": "code",
   "execution_count": 9,
   "id": "33e836bc",
   "metadata": {},
   "outputs": [
    {
     "data": {
      "text/html": [
       "<div>\n",
       "<style scoped>\n",
       "    .dataframe tbody tr th:only-of-type {\n",
       "        vertical-align: middle;\n",
       "    }\n",
       "\n",
       "    .dataframe tbody tr th {\n",
       "        vertical-align: top;\n",
       "    }\n",
       "\n",
       "    .dataframe thead th {\n",
       "        text-align: right;\n",
       "    }\n",
       "</style>\n",
       "<table border=\"1\" class=\"dataframe\">\n",
       "  <thead>\n",
       "    <tr style=\"text-align: right;\">\n",
       "      <th></th>\n",
       "      <th>Warehouse Pincode</th>\n",
       "      <th>Customer Pincode</th>\n",
       "      <th>Zone</th>\n",
       "    </tr>\n",
       "  </thead>\n",
       "  <tbody>\n",
       "    <tr>\n",
       "      <th>0</th>\n",
       "      <td>121003</td>\n",
       "      <td>507101</td>\n",
       "      <td>D</td>\n",
       "    </tr>\n",
       "    <tr>\n",
       "      <th>1</th>\n",
       "      <td>121003</td>\n",
       "      <td>486886</td>\n",
       "      <td>D</td>\n",
       "    </tr>\n",
       "    <tr>\n",
       "      <th>2</th>\n",
       "      <td>121003</td>\n",
       "      <td>532484</td>\n",
       "      <td>D</td>\n",
       "    </tr>\n",
       "    <tr>\n",
       "      <th>3</th>\n",
       "      <td>121003</td>\n",
       "      <td>143001</td>\n",
       "      <td>B</td>\n",
       "    </tr>\n",
       "    <tr>\n",
       "      <th>4</th>\n",
       "      <td>121003</td>\n",
       "      <td>515591</td>\n",
       "      <td>D</td>\n",
       "    </tr>\n",
       "  </tbody>\n",
       "</table>\n",
       "</div>"
      ],
      "text/plain": [
       "   Warehouse Pincode  Customer Pincode Zone\n",
       "0             121003            507101    D\n",
       "1             121003            486886    D\n",
       "2             121003            532484    D\n",
       "3             121003            143001    B\n",
       "4             121003            515591    D"
      ]
     },
     "execution_count": 9,
     "metadata": {},
     "output_type": "execute_result"
    }
   ],
   "source": [
    "pincode_table.head()"
   ]
  },
  {
   "cell_type": "code",
   "execution_count": 10,
   "id": "6603b6ca",
   "metadata": {},
   "outputs": [
    {
     "data": {
      "text/html": [
       "<div>\n",
       "<style scoped>\n",
       "    .dataframe tbody tr th:only-of-type {\n",
       "        vertical-align: middle;\n",
       "    }\n",
       "\n",
       "    .dataframe tbody tr th {\n",
       "        vertical-align: top;\n",
       "    }\n",
       "\n",
       "    .dataframe thead th {\n",
       "        text-align: right;\n",
       "    }\n",
       "</style>\n",
       "<table border=\"1\" class=\"dataframe\">\n",
       "  <thead>\n",
       "    <tr style=\"text-align: right;\">\n",
       "      <th></th>\n",
       "      <th>AWB Code</th>\n",
       "      <th>Order ID</th>\n",
       "      <th>Charged Weight</th>\n",
       "      <th>Warehouse Pincode</th>\n",
       "      <th>Customer Pincode</th>\n",
       "      <th>Zone</th>\n",
       "      <th>Type of Shipment</th>\n",
       "      <th>Billing Amount (Rs.)</th>\n",
       "    </tr>\n",
       "  </thead>\n",
       "  <tbody>\n",
       "    <tr>\n",
       "      <th>0</th>\n",
       "      <td>1091117222124</td>\n",
       "      <td>2001806232</td>\n",
       "      <td>1.30</td>\n",
       "      <td>121003</td>\n",
       "      <td>507101</td>\n",
       "      <td>D</td>\n",
       "      <td>Forward charges</td>\n",
       "      <td>135.0</td>\n",
       "    </tr>\n",
       "    <tr>\n",
       "      <th>1</th>\n",
       "      <td>1091117222194</td>\n",
       "      <td>2001806273</td>\n",
       "      <td>1.00</td>\n",
       "      <td>121003</td>\n",
       "      <td>486886</td>\n",
       "      <td>D</td>\n",
       "      <td>Forward charges</td>\n",
       "      <td>90.2</td>\n",
       "    </tr>\n",
       "    <tr>\n",
       "      <th>2</th>\n",
       "      <td>1091117222931</td>\n",
       "      <td>2001806408</td>\n",
       "      <td>2.50</td>\n",
       "      <td>121003</td>\n",
       "      <td>532484</td>\n",
       "      <td>D</td>\n",
       "      <td>Forward charges</td>\n",
       "      <td>224.6</td>\n",
       "    </tr>\n",
       "    <tr>\n",
       "      <th>3</th>\n",
       "      <td>1091117223244</td>\n",
       "      <td>2001806458</td>\n",
       "      <td>1.00</td>\n",
       "      <td>121003</td>\n",
       "      <td>143001</td>\n",
       "      <td>B</td>\n",
       "      <td>Forward charges</td>\n",
       "      <td>61.3</td>\n",
       "    </tr>\n",
       "    <tr>\n",
       "      <th>4</th>\n",
       "      <td>1091117229345</td>\n",
       "      <td>2001807012</td>\n",
       "      <td>0.15</td>\n",
       "      <td>121003</td>\n",
       "      <td>515591</td>\n",
       "      <td>D</td>\n",
       "      <td>Forward charges</td>\n",
       "      <td>45.4</td>\n",
       "    </tr>\n",
       "  </tbody>\n",
       "</table>\n",
       "</div>"
      ],
      "text/plain": [
       "        AWB Code    Order ID  Charged Weight  Warehouse Pincode  \\\n",
       "0  1091117222124  2001806232            1.30             121003   \n",
       "1  1091117222194  2001806273            1.00             121003   \n",
       "2  1091117222931  2001806408            2.50             121003   \n",
       "3  1091117223244  2001806458            1.00             121003   \n",
       "4  1091117229345  2001807012            0.15             121003   \n",
       "\n",
       "   Customer Pincode Zone Type of Shipment  Billing Amount (Rs.)  \n",
       "0            507101    D  Forward charges                 135.0  \n",
       "1            486886    D  Forward charges                  90.2  \n",
       "2            532484    D  Forward charges                 224.6  \n",
       "3            143001    B  Forward charges                  61.3  \n",
       "4            515591    D  Forward charges                  45.4  "
      ]
     },
     "execution_count": 10,
     "metadata": {},
     "output_type": "execute_result"
    }
   ],
   "source": [
    "invoice_table.head()"
   ]
  },
  {
   "cell_type": "markdown",
   "id": "fe460ff8",
   "metadata": {},
   "source": [
    "## Ensuring the data type is in correct data type\n"
   ]
  },
  {
   "cell_type": "code",
   "execution_count": 11,
   "id": "181878da",
   "metadata": {},
   "outputs": [],
   "source": [
    "# order_table.dtypes"
   ]
  },
  {
   "cell_type": "code",
   "execution_count": 12,
   "id": "0c6fdc5c",
   "metadata": {},
   "outputs": [],
   "source": [
    "# pincode_table.dtypes"
   ]
  },
  {
   "cell_type": "code",
   "execution_count": 13,
   "id": "5068648a",
   "metadata": {},
   "outputs": [],
   "source": [
    "# skumaster_table.dtypes"
   ]
  },
  {
   "cell_type": "code",
   "execution_count": 14,
   "id": "57c308ea",
   "metadata": {},
   "outputs": [],
   "source": [
    "# invoice_table.dtypes"
   ]
  },
  {
   "cell_type": "code",
   "execution_count": 15,
   "id": "8e9ae236",
   "metadata": {},
   "outputs": [],
   "source": [
    "# courier_rates_table.dtypes"
   ]
  },
  {
   "cell_type": "markdown",
   "id": "5e77c504",
   "metadata": {},
   "source": [
    "## Create a new dataframe which will have the information as per X.\n"
   ]
  },
  {
   "cell_type": "code",
   "execution_count": 16,
   "id": "60b7e916",
   "metadata": {},
   "outputs": [],
   "source": [
    "x_table = pd.merge(left= order_table, right= skumaster_table, left_on= 'SKU', right_on='SKU',\n",
    "                  how='inner')"
   ]
  },
  {
   "cell_type": "code",
   "execution_count": 17,
   "id": "304d1d71",
   "metadata": {},
   "outputs": [],
   "source": [
    "# x_table"
   ]
  },
  {
   "cell_type": "code",
   "execution_count": 18,
   "id": "8e2c47a2",
   "metadata": {},
   "outputs": [],
   "source": [
    "x_table['total weight (KG)'] = round((x_table['Order Qty']*x_table['Weight (g)'])/1000,2)"
   ]
  },
  {
   "cell_type": "code",
   "execution_count": 19,
   "id": "3f5e3241",
   "metadata": {},
   "outputs": [],
   "source": [
    "# x_table"
   ]
  },
  {
   "cell_type": "code",
   "execution_count": 20,
   "id": "b13a0a84",
   "metadata": {},
   "outputs": [],
   "source": [
    "x_table = x_table[['ExternOrderNo', 'total weight (KG)']].groupby(by='ExternOrderNo').sum()"
   ]
  },
  {
   "cell_type": "code",
   "execution_count": 21,
   "id": "d6ab3225",
   "metadata": {},
   "outputs": [],
   "source": [
    "x_table.reset_index(inplace=True)"
   ]
  },
  {
   "cell_type": "code",
   "execution_count": 22,
   "id": "283e59fe",
   "metadata": {},
   "outputs": [],
   "source": [
    "x_table =pd.merge(left= x_table, right= invoice_table[['Order ID','Customer Pincode', 'Type of Shipment']], left_on= 'ExternOrderNo', right_on='Order ID', how='inner')"
   ]
  },
  {
   "cell_type": "code",
   "execution_count": 23,
   "id": "5f557468",
   "metadata": {},
   "outputs": [],
   "source": [
    "x_table.drop(columns='Order ID', inplace=True)"
   ]
  },
  {
   "cell_type": "code",
   "execution_count": 24,
   "id": "fac7077f",
   "metadata": {},
   "outputs": [],
   "source": [
    "# x_table"
   ]
  },
  {
   "cell_type": "code",
   "execution_count": 25,
   "id": "21c743f2",
   "metadata": {},
   "outputs": [],
   "source": [
    "x_table= pd.merge(left=x_table, right=pincode_table[['Customer Pincode', 'Zone']], left_on='Customer Pincode',\n",
    "         right_on='Customer Pincode', how='inner')"
   ]
  },
  {
   "cell_type": "code",
   "execution_count": 26,
   "id": "6b493085",
   "metadata": {},
   "outputs": [],
   "source": [
    "# x_table"
   ]
  },
  {
   "cell_type": "code",
   "execution_count": 27,
   "id": "358fb303",
   "metadata": {},
   "outputs": [
    {
     "data": {
      "text/plain": [
       "50"
      ]
     },
     "execution_count": 27,
     "metadata": {},
     "output_type": "execute_result"
    }
   ],
   "source": [
    "x_table.duplicated().sum()"
   ]
  },
  {
   "cell_type": "code",
   "execution_count": 28,
   "id": "86419a27",
   "metadata": {},
   "outputs": [],
   "source": [
    "x_table.drop_duplicates(inplace=True)"
   ]
  },
  {
   "cell_type": "code",
   "execution_count": 29,
   "id": "14ea7788",
   "metadata": {},
   "outputs": [],
   "source": [
    "x_table = pd.merge(left=x_table, right=courier_rates_table, left_on='Zone', right_on='Zone', how='inner')"
   ]
  },
  {
   "cell_type": "code",
   "execution_count": 30,
   "id": "18427238",
   "metadata": {},
   "outputs": [],
   "source": [
    "# x_table"
   ]
  },
  {
   "cell_type": "markdown",
   "id": "fb7ec3fe",
   "metadata": {},
   "source": [
    "## Defining a function to get the applicable weight"
   ]
  },
  {
   "cell_type": "code",
   "execution_count": 31,
   "id": "6ee04cb1",
   "metadata": {},
   "outputs": [],
   "source": [
    "def smallest_multiple(weight_slab, total_weight):\n",
    "    remainder = total_weight % weight_slab\n",
    "    if remainder == 0:\n",
    "        return total_weight\n",
    "    else:\n",
    "        return total_weight + weight_slab - remainder"
   ]
  },
  {
   "cell_type": "code",
   "execution_count": 32,
   "id": "1804ac71",
   "metadata": {},
   "outputs": [],
   "source": [
    "x_table['applicable weight']= x_table.apply(lambda row: smallest_multiple(row['Weight Slabs'], row['total weight (KG)']), axis=1)"
   ]
  },
  {
   "cell_type": "code",
   "execution_count": 33,
   "id": "4500e7b3",
   "metadata": {},
   "outputs": [],
   "source": [
    "# x_table"
   ]
  },
  {
   "cell_type": "markdown",
   "id": "160baa79",
   "metadata": {},
   "source": [
    "## Defining a function to get the expected price\n"
   ]
  },
  {
   "cell_type": "code",
   "execution_count": 34,
   "id": "54032eec",
   "metadata": {},
   "outputs": [],
   "source": [
    "def expected_amt(shipment, total_weight, weight_slab, frd_charges, frd_extra_charges, rto_charges, rto_extra_charges):\n",
    "    if shipment=='Forward charges':\n",
    "        x= total_weight/weight_slab\n",
    "        y = x-(x-1)\n",
    "        \n",
    "        fixed_charge= y*frd_charges\n",
    "        \n",
    "        z= x-1\n",
    "        additional_charges = z*frd_extra_charges\n",
    "        \n",
    "        total_amount= fixed_charge + additional_charges\n",
    "        \n",
    "        return total_amount\n",
    "    \n",
    "    else:\n",
    "        x= total_weight/weight_slab\n",
    "        y = x-(x-1)\n",
    "        \n",
    "        fixed_charge= y * (rto_charges+frd_charges)\n",
    "        \n",
    "        z= x-1\n",
    "        additional_charges= z*(frd_extra_charges+ rto_extra_charges)\n",
    "        \n",
    "        total_amount= fixed_charge+additional_charges\n",
    "        \n",
    "        return total_amount"
   ]
  },
  {
   "cell_type": "code",
   "execution_count": 35,
   "id": "29ae840f",
   "metadata": {},
   "outputs": [],
   "source": [
    "x_table['expected Price']= x_table.apply(lambda row: expected_amt(row['Type of Shipment'], row['applicable weight'], row['Weight Slabs'],\n",
    "                      row['Forward Fixed Charge'], row['Forward Additional Weight Slab Charge'], row['RTO Fixed Charge'],\n",
    "                      row['RTO Additional Weight Slab Charge']), axis=1)"
   ]
  },
  {
   "cell_type": "code",
   "execution_count": 36,
   "id": "02d4c5f4",
   "metadata": {},
   "outputs": [],
   "source": [
    "# x_table"
   ]
  },
  {
   "cell_type": "code",
   "execution_count": 37,
   "id": "1bc03b39",
   "metadata": {},
   "outputs": [],
   "source": [
    "x_table['Weight Slabs']= x_table['Weight Slabs'].apply(lambda x: '%.2f'%x)"
   ]
  },
  {
   "cell_type": "code",
   "execution_count": 38,
   "id": "e32851ee",
   "metadata": {},
   "outputs": [],
   "source": [
    "# x_table"
   ]
  },
  {
   "cell_type": "code",
   "execution_count": 39,
   "id": "0afdda20",
   "metadata": {},
   "outputs": [],
   "source": [
    "x_table.rename(columns={'ExternOrderNo': 'Order ID', 'total weight (KG)':'Total weight as per X (KG)', 'Zone':\n",
    "               'Delivery Zone as per X', 'Weight Slabs': 'Weight slab as per X (KG)', 'expected Price':'Expected Charge as per X (Rs.)'},\n",
    "              inplace=True)"
   ]
  },
  {
   "cell_type": "code",
   "execution_count": 40,
   "id": "e4f305fd",
   "metadata": {},
   "outputs": [],
   "source": [
    "# x_table"
   ]
  },
  {
   "cell_type": "markdown",
   "id": "6b1d07f1",
   "metadata": {},
   "source": [
    "## Creating dataframe for Courier Company info."
   ]
  },
  {
   "cell_type": "code",
   "execution_count": 41,
   "id": "f269146a",
   "metadata": {},
   "outputs": [],
   "source": [
    "courier_table= pd.merge(left=invoice_table[['AWB Code', 'Order ID', 'Charged Weight', 'Zone', 'Billing Amount (Rs.)']], right=courier_rates_table\n",
    "         [['Zone', 'Weight Slabs']], left_on='Zone', right_on='Zone', how='inner')"
   ]
  },
  {
   "cell_type": "code",
   "execution_count": 42,
   "id": "a3cbcc5f",
   "metadata": {},
   "outputs": [],
   "source": [
    "# courier_table"
   ]
  },
  {
   "cell_type": "code",
   "execution_count": 43,
   "id": "86b959b7",
   "metadata": {},
   "outputs": [],
   "source": [
    "courier_table.rename(columns={'Charged Weight':'Total weight as per the Courier Company (KG)', 'Zone': 'Delivery Zone charged by Courier Company', \n",
    "                             'Billing Amount (Rs.)': 'Charges Billed by Courier Company (Rs.)', 'Weight Slabs':'Weight slab charged by Courier Company (KG)'}, inplace=True)"
   ]
  },
  {
   "cell_type": "markdown",
   "id": "f8bfb7d5",
   "metadata": {},
   "source": [
    "## Creating a comparison dataframe"
   ]
  },
  {
   "cell_type": "code",
   "execution_count": 44,
   "id": "826aad20",
   "metadata": {},
   "outputs": [],
   "source": [
    "comparison_table =pd.merge(left= x_table[['Order ID', 'Total weight as per X (KG)', 'Delivery Zone as per X', 'Weight slab as per X (KG)', \n",
    "               'Expected Charge as per X (Rs.)']], right= courier_table, left_on= 'Order ID', right_on='Order ID', how='inner')"
   ]
  },
  {
   "cell_type": "code",
   "execution_count": 45,
   "id": "a90dee02",
   "metadata": {},
   "outputs": [],
   "source": [
    "# comparison_table"
   ]
  },
  {
   "cell_type": "code",
   "execution_count": 46,
   "id": "d4ff2239",
   "metadata": {},
   "outputs": [],
   "source": [
    "comparison_table= comparison_table.iloc[:,[0, 5, 1, 3,6, 9, 2, 7, 4, 8]]"
   ]
  },
  {
   "cell_type": "code",
   "execution_count": 47,
   "id": "6fd80267",
   "metadata": {},
   "outputs": [],
   "source": [
    "comparison_table['Difference Between Expected Charges and Billed Charged (Rs.)']= round((comparison_table['Expected Charge as per X (Rs.)']-\n",
    "                                             comparison_table['Charges Billed by Courier Company (Rs.)']),2)"
   ]
  },
  {
   "cell_type": "code",
   "execution_count": 48,
   "id": "bf58a705",
   "metadata": {},
   "outputs": [
    {
     "data": {
      "text/html": [
       "<div>\n",
       "<style scoped>\n",
       "    .dataframe tbody tr th:only-of-type {\n",
       "        vertical-align: middle;\n",
       "    }\n",
       "\n",
       "    .dataframe tbody tr th {\n",
       "        vertical-align: top;\n",
       "    }\n",
       "\n",
       "    .dataframe thead th {\n",
       "        text-align: right;\n",
       "    }\n",
       "</style>\n",
       "<table border=\"1\" class=\"dataframe\">\n",
       "  <thead>\n",
       "    <tr style=\"text-align: right;\">\n",
       "      <th></th>\n",
       "      <th>Order ID</th>\n",
       "      <th>AWB Code</th>\n",
       "      <th>Total weight as per X (KG)</th>\n",
       "      <th>Weight slab as per X (KG)</th>\n",
       "      <th>Total weight as per the Courier Company (KG)</th>\n",
       "      <th>Weight slab charged by Courier Company (KG)</th>\n",
       "      <th>Delivery Zone as per X</th>\n",
       "      <th>Delivery Zone charged by Courier Company</th>\n",
       "      <th>Expected Charge as per X (Rs.)</th>\n",
       "      <th>Charges Billed by Courier Company (Rs.)</th>\n",
       "      <th>Difference Between Expected Charges and Billed Charged (Rs.)</th>\n",
       "    </tr>\n",
       "  </thead>\n",
       "  <tbody>\n",
       "    <tr>\n",
       "      <th>0</th>\n",
       "      <td>2001806210</td>\n",
       "      <td>1091117221940</td>\n",
       "      <td>0.22</td>\n",
       "      <td>0.50</td>\n",
       "      <td>2.92</td>\n",
       "      <td>0.50</td>\n",
       "      <td>B</td>\n",
       "      <td>B</td>\n",
       "      <td>33.0</td>\n",
       "      <td>174.5</td>\n",
       "      <td>-141.5</td>\n",
       "    </tr>\n",
       "    <tr>\n",
       "      <th>1</th>\n",
       "      <td>2001806233</td>\n",
       "      <td>1091117222135</td>\n",
       "      <td>0.25</td>\n",
       "      <td>0.50</td>\n",
       "      <td>0.78</td>\n",
       "      <td>0.50</td>\n",
       "      <td>B</td>\n",
       "      <td>B</td>\n",
       "      <td>33.0</td>\n",
       "      <td>61.3</td>\n",
       "      <td>-28.3</td>\n",
       "    </tr>\n",
       "    <tr>\n",
       "      <th>2</th>\n",
       "      <td>2001806304</td>\n",
       "      <td>1091117222360</td>\n",
       "      <td>0.50</td>\n",
       "      <td>0.50</td>\n",
       "      <td>0.71</td>\n",
       "      <td>1.25</td>\n",
       "      <td>B</td>\n",
       "      <td>D</td>\n",
       "      <td>33.0</td>\n",
       "      <td>90.2</td>\n",
       "      <td>-57.2</td>\n",
       "    </tr>\n",
       "    <tr>\n",
       "      <th>3</th>\n",
       "      <td>2001810549</td>\n",
       "      <td>1091117806263</td>\n",
       "      <td>0.98</td>\n",
       "      <td>0.50</td>\n",
       "      <td>1.86</td>\n",
       "      <td>1.25</td>\n",
       "      <td>B</td>\n",
       "      <td>D</td>\n",
       "      <td>61.3</td>\n",
       "      <td>179.8</td>\n",
       "      <td>-118.5</td>\n",
       "    </tr>\n",
       "    <tr>\n",
       "      <th>4</th>\n",
       "      <td>2001811306</td>\n",
       "      <td>1091117958163</td>\n",
       "      <td>0.94</td>\n",
       "      <td>0.50</td>\n",
       "      <td>1.10</td>\n",
       "      <td>1.25</td>\n",
       "      <td>B</td>\n",
       "      <td>D</td>\n",
       "      <td>61.3</td>\n",
       "      <td>135.0</td>\n",
       "      <td>-73.7</td>\n",
       "    </tr>\n",
       "    <tr>\n",
       "      <th>...</th>\n",
       "      <td>...</td>\n",
       "      <td>...</td>\n",
       "      <td>...</td>\n",
       "      <td>...</td>\n",
       "      <td>...</td>\n",
       "      <td>...</td>\n",
       "      <td>...</td>\n",
       "      <td>...</td>\n",
       "      <td>...</td>\n",
       "      <td>...</td>\n",
       "      <td>...</td>\n",
       "    </tr>\n",
       "    <tr>\n",
       "      <th>119</th>\n",
       "      <td>2001811475</td>\n",
       "      <td>1091121844806</td>\n",
       "      <td>0.69</td>\n",
       "      <td>1.50</td>\n",
       "      <td>0.50</td>\n",
       "      <td>0.50</td>\n",
       "      <td>E</td>\n",
       "      <td>B</td>\n",
       "      <td>56.6</td>\n",
       "      <td>33.0</td>\n",
       "      <td>23.6</td>\n",
       "    </tr>\n",
       "    <tr>\n",
       "      <th>120</th>\n",
       "      <td>2001811604</td>\n",
       "      <td>1091118004245</td>\n",
       "      <td>0.72</td>\n",
       "      <td>1.50</td>\n",
       "      <td>0.80</td>\n",
       "      <td>0.50</td>\n",
       "      <td>E</td>\n",
       "      <td>B</td>\n",
       "      <td>56.6</td>\n",
       "      <td>61.3</td>\n",
       "      <td>-4.7</td>\n",
       "    </tr>\n",
       "    <tr>\n",
       "      <th>121</th>\n",
       "      <td>2001818390</td>\n",
       "      <td>1091120014461</td>\n",
       "      <td>0.84</td>\n",
       "      <td>1.50</td>\n",
       "      <td>0.80</td>\n",
       "      <td>1.50</td>\n",
       "      <td>E</td>\n",
       "      <td>E</td>\n",
       "      <td>107.3</td>\n",
       "      <td>213.5</td>\n",
       "      <td>-106.2</td>\n",
       "    </tr>\n",
       "    <tr>\n",
       "      <th>122</th>\n",
       "      <td>2001819252</td>\n",
       "      <td>1091120352712</td>\n",
       "      <td>0.27</td>\n",
       "      <td>1.50</td>\n",
       "      <td>0.30</td>\n",
       "      <td>0.50</td>\n",
       "      <td>E</td>\n",
       "      <td>B</td>\n",
       "      <td>56.6</td>\n",
       "      <td>33.0</td>\n",
       "      <td>23.6</td>\n",
       "    </tr>\n",
       "    <tr>\n",
       "      <th>123</th>\n",
       "      <td>2001827036</td>\n",
       "      <td>1091122418320</td>\n",
       "      <td>2.17</td>\n",
       "      <td>1.50</td>\n",
       "      <td>1.60</td>\n",
       "      <td>0.50</td>\n",
       "      <td>E</td>\n",
       "      <td>B</td>\n",
       "      <td>112.1</td>\n",
       "      <td>117.9</td>\n",
       "      <td>-5.8</td>\n",
       "    </tr>\n",
       "  </tbody>\n",
       "</table>\n",
       "<p>124 rows × 11 columns</p>\n",
       "</div>"
      ],
      "text/plain": [
       "       Order ID       AWB Code  Total weight as per X (KG)  \\\n",
       "0    2001806210  1091117221940                        0.22   \n",
       "1    2001806233  1091117222135                        0.25   \n",
       "2    2001806304  1091117222360                        0.50   \n",
       "3    2001810549  1091117806263                        0.98   \n",
       "4    2001811306  1091117958163                        0.94   \n",
       "..          ...            ...                         ...   \n",
       "119  2001811475  1091121844806                        0.69   \n",
       "120  2001811604  1091118004245                        0.72   \n",
       "121  2001818390  1091120014461                        0.84   \n",
       "122  2001819252  1091120352712                        0.27   \n",
       "123  2001827036  1091122418320                        2.17   \n",
       "\n",
       "    Weight slab as per X (KG)  Total weight as per the Courier Company (KG)  \\\n",
       "0                        0.50                                          2.92   \n",
       "1                        0.50                                          0.78   \n",
       "2                        0.50                                          0.71   \n",
       "3                        0.50                                          1.86   \n",
       "4                        0.50                                          1.10   \n",
       "..                        ...                                           ...   \n",
       "119                      1.50                                          0.50   \n",
       "120                      1.50                                          0.80   \n",
       "121                      1.50                                          0.80   \n",
       "122                      1.50                                          0.30   \n",
       "123                      1.50                                          1.60   \n",
       "\n",
       "     Weight slab charged by Courier Company (KG) Delivery Zone as per X  \\\n",
       "0                                           0.50                      B   \n",
       "1                                           0.50                      B   \n",
       "2                                           1.25                      B   \n",
       "3                                           1.25                      B   \n",
       "4                                           1.25                      B   \n",
       "..                                           ...                    ...   \n",
       "119                                         0.50                      E   \n",
       "120                                         0.50                      E   \n",
       "121                                         1.50                      E   \n",
       "122                                         0.50                      E   \n",
       "123                                         0.50                      E   \n",
       "\n",
       "    Delivery Zone charged by Courier Company  Expected Charge as per X (Rs.)  \\\n",
       "0                                          B                            33.0   \n",
       "1                                          B                            33.0   \n",
       "2                                          D                            33.0   \n",
       "3                                          D                            61.3   \n",
       "4                                          D                            61.3   \n",
       "..                                       ...                             ...   \n",
       "119                                        B                            56.6   \n",
       "120                                        B                            56.6   \n",
       "121                                        E                           107.3   \n",
       "122                                        B                            56.6   \n",
       "123                                        B                           112.1   \n",
       "\n",
       "     Charges Billed by Courier Company (Rs.)  \\\n",
       "0                                      174.5   \n",
       "1                                       61.3   \n",
       "2                                       90.2   \n",
       "3                                      179.8   \n",
       "4                                      135.0   \n",
       "..                                       ...   \n",
       "119                                     33.0   \n",
       "120                                     61.3   \n",
       "121                                    213.5   \n",
       "122                                     33.0   \n",
       "123                                    117.9   \n",
       "\n",
       "     Difference Between Expected Charges and Billed Charged (Rs.)  \n",
       "0                                               -141.5             \n",
       "1                                                -28.3             \n",
       "2                                                -57.2             \n",
       "3                                               -118.5             \n",
       "4                                                -73.7             \n",
       "..                                                 ...             \n",
       "119                                               23.6             \n",
       "120                                               -4.7             \n",
       "121                                             -106.2             \n",
       "122                                               23.6             \n",
       "123                                               -5.8             \n",
       "\n",
       "[124 rows x 11 columns]"
      ]
     },
     "execution_count": 48,
     "metadata": {},
     "output_type": "execute_result"
    }
   ],
   "source": [
    "comparison_table"
   ]
  },
  {
   "cell_type": "markdown",
   "id": "502dd509",
   "metadata": {},
   "source": [
    "## Creating a Summary Table"
   ]
  },
  {
   "cell_type": "code",
   "execution_count": 49,
   "id": "b94b576c",
   "metadata": {},
   "outputs": [],
   "source": [
    "summary_table = comparison_table.copy()"
   ]
  },
  {
   "cell_type": "code",
   "execution_count": 50,
   "id": "8d032f9d",
   "metadata": {},
   "outputs": [],
   "source": [
    "def category_(x):\n",
    "    if x>0:\n",
    "        return 'Total Orders where X has been undercharged'\n",
    "    elif x<0:\n",
    "        return 'Total Orders where X has been overcharged'\n",
    "    else:\n",
    "        return 'Total Orders where X has been correctly charged'"
   ]
  },
  {
   "cell_type": "code",
   "execution_count": 51,
   "id": "a7e87b39",
   "metadata": {},
   "outputs": [],
   "source": [
    "summary_table['Category'] = summary_table['Difference Between Expected Charges and Billed Charged (Rs.)'].apply(lambda x:category_(x))"
   ]
  },
  {
   "cell_type": "code",
   "execution_count": 52,
   "id": "0ce1acec",
   "metadata": {},
   "outputs": [
    {
     "data": {
      "text/html": [
       "<div>\n",
       "<style scoped>\n",
       "    .dataframe tbody tr th:only-of-type {\n",
       "        vertical-align: middle;\n",
       "    }\n",
       "\n",
       "    .dataframe tbody tr th {\n",
       "        vertical-align: top;\n",
       "    }\n",
       "\n",
       "    .dataframe thead th {\n",
       "        text-align: right;\n",
       "    }\n",
       "</style>\n",
       "<table border=\"1\" class=\"dataframe\">\n",
       "  <thead>\n",
       "    <tr style=\"text-align: right;\">\n",
       "      <th></th>\n",
       "      <th>Order ID</th>\n",
       "      <th>AWB Code</th>\n",
       "      <th>Total weight as per X (KG)</th>\n",
       "      <th>Weight slab as per X (KG)</th>\n",
       "      <th>Total weight as per the Courier Company (KG)</th>\n",
       "      <th>Weight slab charged by Courier Company (KG)</th>\n",
       "      <th>Delivery Zone as per X</th>\n",
       "      <th>Delivery Zone charged by Courier Company</th>\n",
       "      <th>Expected Charge as per X (Rs.)</th>\n",
       "      <th>Charges Billed by Courier Company (Rs.)</th>\n",
       "      <th>Difference Between Expected Charges and Billed Charged (Rs.)</th>\n",
       "      <th>Category</th>\n",
       "    </tr>\n",
       "  </thead>\n",
       "  <tbody>\n",
       "    <tr>\n",
       "      <th>0</th>\n",
       "      <td>2001806210</td>\n",
       "      <td>1091117221940</td>\n",
       "      <td>0.22</td>\n",
       "      <td>0.50</td>\n",
       "      <td>2.92</td>\n",
       "      <td>0.50</td>\n",
       "      <td>B</td>\n",
       "      <td>B</td>\n",
       "      <td>33.0</td>\n",
       "      <td>174.5</td>\n",
       "      <td>-141.5</td>\n",
       "      <td>Total Orders where X has been overcharged</td>\n",
       "    </tr>\n",
       "    <tr>\n",
       "      <th>1</th>\n",
       "      <td>2001806233</td>\n",
       "      <td>1091117222135</td>\n",
       "      <td>0.25</td>\n",
       "      <td>0.50</td>\n",
       "      <td>0.78</td>\n",
       "      <td>0.50</td>\n",
       "      <td>B</td>\n",
       "      <td>B</td>\n",
       "      <td>33.0</td>\n",
       "      <td>61.3</td>\n",
       "      <td>-28.3</td>\n",
       "      <td>Total Orders where X has been overcharged</td>\n",
       "    </tr>\n",
       "    <tr>\n",
       "      <th>2</th>\n",
       "      <td>2001806304</td>\n",
       "      <td>1091117222360</td>\n",
       "      <td>0.50</td>\n",
       "      <td>0.50</td>\n",
       "      <td>0.71</td>\n",
       "      <td>1.25</td>\n",
       "      <td>B</td>\n",
       "      <td>D</td>\n",
       "      <td>33.0</td>\n",
       "      <td>90.2</td>\n",
       "      <td>-57.2</td>\n",
       "      <td>Total Orders where X has been overcharged</td>\n",
       "    </tr>\n",
       "    <tr>\n",
       "      <th>3</th>\n",
       "      <td>2001810549</td>\n",
       "      <td>1091117806263</td>\n",
       "      <td>0.98</td>\n",
       "      <td>0.50</td>\n",
       "      <td>1.86</td>\n",
       "      <td>1.25</td>\n",
       "      <td>B</td>\n",
       "      <td>D</td>\n",
       "      <td>61.3</td>\n",
       "      <td>179.8</td>\n",
       "      <td>-118.5</td>\n",
       "      <td>Total Orders where X has been overcharged</td>\n",
       "    </tr>\n",
       "    <tr>\n",
       "      <th>4</th>\n",
       "      <td>2001811306</td>\n",
       "      <td>1091117958163</td>\n",
       "      <td>0.94</td>\n",
       "      <td>0.50</td>\n",
       "      <td>1.10</td>\n",
       "      <td>1.25</td>\n",
       "      <td>B</td>\n",
       "      <td>D</td>\n",
       "      <td>61.3</td>\n",
       "      <td>135.0</td>\n",
       "      <td>-73.7</td>\n",
       "      <td>Total Orders where X has been overcharged</td>\n",
       "    </tr>\n",
       "    <tr>\n",
       "      <th>...</th>\n",
       "      <td>...</td>\n",
       "      <td>...</td>\n",
       "      <td>...</td>\n",
       "      <td>...</td>\n",
       "      <td>...</td>\n",
       "      <td>...</td>\n",
       "      <td>...</td>\n",
       "      <td>...</td>\n",
       "      <td>...</td>\n",
       "      <td>...</td>\n",
       "      <td>...</td>\n",
       "      <td>...</td>\n",
       "    </tr>\n",
       "    <tr>\n",
       "      <th>119</th>\n",
       "      <td>2001811475</td>\n",
       "      <td>1091121844806</td>\n",
       "      <td>0.69</td>\n",
       "      <td>1.50</td>\n",
       "      <td>0.50</td>\n",
       "      <td>0.50</td>\n",
       "      <td>E</td>\n",
       "      <td>B</td>\n",
       "      <td>56.6</td>\n",
       "      <td>33.0</td>\n",
       "      <td>23.6</td>\n",
       "      <td>Total Orders where X has been undercharged</td>\n",
       "    </tr>\n",
       "    <tr>\n",
       "      <th>120</th>\n",
       "      <td>2001811604</td>\n",
       "      <td>1091118004245</td>\n",
       "      <td>0.72</td>\n",
       "      <td>1.50</td>\n",
       "      <td>0.80</td>\n",
       "      <td>0.50</td>\n",
       "      <td>E</td>\n",
       "      <td>B</td>\n",
       "      <td>56.6</td>\n",
       "      <td>61.3</td>\n",
       "      <td>-4.7</td>\n",
       "      <td>Total Orders where X has been overcharged</td>\n",
       "    </tr>\n",
       "    <tr>\n",
       "      <th>121</th>\n",
       "      <td>2001818390</td>\n",
       "      <td>1091120014461</td>\n",
       "      <td>0.84</td>\n",
       "      <td>1.50</td>\n",
       "      <td>0.80</td>\n",
       "      <td>1.50</td>\n",
       "      <td>E</td>\n",
       "      <td>E</td>\n",
       "      <td>107.3</td>\n",
       "      <td>213.5</td>\n",
       "      <td>-106.2</td>\n",
       "      <td>Total Orders where X has been overcharged</td>\n",
       "    </tr>\n",
       "    <tr>\n",
       "      <th>122</th>\n",
       "      <td>2001819252</td>\n",
       "      <td>1091120352712</td>\n",
       "      <td>0.27</td>\n",
       "      <td>1.50</td>\n",
       "      <td>0.30</td>\n",
       "      <td>0.50</td>\n",
       "      <td>E</td>\n",
       "      <td>B</td>\n",
       "      <td>56.6</td>\n",
       "      <td>33.0</td>\n",
       "      <td>23.6</td>\n",
       "      <td>Total Orders where X has been undercharged</td>\n",
       "    </tr>\n",
       "    <tr>\n",
       "      <th>123</th>\n",
       "      <td>2001827036</td>\n",
       "      <td>1091122418320</td>\n",
       "      <td>2.17</td>\n",
       "      <td>1.50</td>\n",
       "      <td>1.60</td>\n",
       "      <td>0.50</td>\n",
       "      <td>E</td>\n",
       "      <td>B</td>\n",
       "      <td>112.1</td>\n",
       "      <td>117.9</td>\n",
       "      <td>-5.8</td>\n",
       "      <td>Total Orders where X has been overcharged</td>\n",
       "    </tr>\n",
       "  </tbody>\n",
       "</table>\n",
       "<p>124 rows × 12 columns</p>\n",
       "</div>"
      ],
      "text/plain": [
       "       Order ID       AWB Code  Total weight as per X (KG)  \\\n",
       "0    2001806210  1091117221940                        0.22   \n",
       "1    2001806233  1091117222135                        0.25   \n",
       "2    2001806304  1091117222360                        0.50   \n",
       "3    2001810549  1091117806263                        0.98   \n",
       "4    2001811306  1091117958163                        0.94   \n",
       "..          ...            ...                         ...   \n",
       "119  2001811475  1091121844806                        0.69   \n",
       "120  2001811604  1091118004245                        0.72   \n",
       "121  2001818390  1091120014461                        0.84   \n",
       "122  2001819252  1091120352712                        0.27   \n",
       "123  2001827036  1091122418320                        2.17   \n",
       "\n",
       "    Weight slab as per X (KG)  Total weight as per the Courier Company (KG)  \\\n",
       "0                        0.50                                          2.92   \n",
       "1                        0.50                                          0.78   \n",
       "2                        0.50                                          0.71   \n",
       "3                        0.50                                          1.86   \n",
       "4                        0.50                                          1.10   \n",
       "..                        ...                                           ...   \n",
       "119                      1.50                                          0.50   \n",
       "120                      1.50                                          0.80   \n",
       "121                      1.50                                          0.80   \n",
       "122                      1.50                                          0.30   \n",
       "123                      1.50                                          1.60   \n",
       "\n",
       "     Weight slab charged by Courier Company (KG) Delivery Zone as per X  \\\n",
       "0                                           0.50                      B   \n",
       "1                                           0.50                      B   \n",
       "2                                           1.25                      B   \n",
       "3                                           1.25                      B   \n",
       "4                                           1.25                      B   \n",
       "..                                           ...                    ...   \n",
       "119                                         0.50                      E   \n",
       "120                                         0.50                      E   \n",
       "121                                         1.50                      E   \n",
       "122                                         0.50                      E   \n",
       "123                                         0.50                      E   \n",
       "\n",
       "    Delivery Zone charged by Courier Company  Expected Charge as per X (Rs.)  \\\n",
       "0                                          B                            33.0   \n",
       "1                                          B                            33.0   \n",
       "2                                          D                            33.0   \n",
       "3                                          D                            61.3   \n",
       "4                                          D                            61.3   \n",
       "..                                       ...                             ...   \n",
       "119                                        B                            56.6   \n",
       "120                                        B                            56.6   \n",
       "121                                        E                           107.3   \n",
       "122                                        B                            56.6   \n",
       "123                                        B                           112.1   \n",
       "\n",
       "     Charges Billed by Courier Company (Rs.)  \\\n",
       "0                                      174.5   \n",
       "1                                       61.3   \n",
       "2                                       90.2   \n",
       "3                                      179.8   \n",
       "4                                      135.0   \n",
       "..                                       ...   \n",
       "119                                     33.0   \n",
       "120                                     61.3   \n",
       "121                                    213.5   \n",
       "122                                     33.0   \n",
       "123                                    117.9   \n",
       "\n",
       "     Difference Between Expected Charges and Billed Charged (Rs.)  \\\n",
       "0                                               -141.5              \n",
       "1                                                -28.3              \n",
       "2                                                -57.2              \n",
       "3                                               -118.5              \n",
       "4                                                -73.7              \n",
       "..                                                 ...              \n",
       "119                                               23.6              \n",
       "120                                               -4.7              \n",
       "121                                             -106.2              \n",
       "122                                               23.6              \n",
       "123                                               -5.8              \n",
       "\n",
       "                                       Category  \n",
       "0     Total Orders where X has been overcharged  \n",
       "1     Total Orders where X has been overcharged  \n",
       "2     Total Orders where X has been overcharged  \n",
       "3     Total Orders where X has been overcharged  \n",
       "4     Total Orders where X has been overcharged  \n",
       "..                                          ...  \n",
       "119  Total Orders where X has been undercharged  \n",
       "120   Total Orders where X has been overcharged  \n",
       "121   Total Orders where X has been overcharged  \n",
       "122  Total Orders where X has been undercharged  \n",
       "123   Total Orders where X has been overcharged  \n",
       "\n",
       "[124 rows x 12 columns]"
      ]
     },
     "execution_count": 52,
     "metadata": {},
     "output_type": "execute_result"
    }
   ],
   "source": [
    "summary_table"
   ]
  },
  {
   "cell_type": "code",
   "execution_count": 53,
   "id": "05f5b75a",
   "metadata": {},
   "outputs": [],
   "source": [
    "def amt(x, y):\n",
    "    if y>0:\n",
    "        return y\n",
    "    elif y<0:\n",
    "        return (-y)\n",
    "    else:\n",
    "        return x"
   ]
  },
  {
   "cell_type": "code",
   "execution_count": 54,
   "id": "56a7c2c8",
   "metadata": {},
   "outputs": [],
   "source": [
    "summary_table['Amount (Rs.)']= summary_table.apply(lambda row: amt(row['Charges Billed by Courier Company (Rs.)'],\n",
    "                            row['Difference Between Expected Charges and Billed Charged (Rs.)']), axis=1)"
   ]
  },
  {
   "cell_type": "code",
   "execution_count": 55,
   "id": "843f7098",
   "metadata": {},
   "outputs": [],
   "source": [
    "summary_table= summary_table.groupby(by='Category').agg({'Category': 'count', 'Amount (Rs.)': 'sum'})"
   ]
  },
  {
   "cell_type": "code",
   "execution_count": 56,
   "id": "15ced048",
   "metadata": {},
   "outputs": [],
   "source": [
    "# summary_table"
   ]
  },
  {
   "cell_type": "code",
   "execution_count": 57,
   "id": "1a739988",
   "metadata": {},
   "outputs": [],
   "source": [
    "summary_table.rename(columns={'Category': 'Count'}, inplace=True)"
   ]
  },
  {
   "cell_type": "code",
   "execution_count": 58,
   "id": "156b3c40",
   "metadata": {},
   "outputs": [],
   "source": [
    "summary_table.index.name = ' '"
   ]
  },
  {
   "cell_type": "code",
   "execution_count": 59,
   "id": "8a9e5637",
   "metadata": {},
   "outputs": [
    {
     "data": {
      "text/html": [
       "<div>\n",
       "<style scoped>\n",
       "    .dataframe tbody tr th:only-of-type {\n",
       "        vertical-align: middle;\n",
       "    }\n",
       "\n",
       "    .dataframe tbody tr th {\n",
       "        vertical-align: top;\n",
       "    }\n",
       "\n",
       "    .dataframe thead th {\n",
       "        text-align: right;\n",
       "    }\n",
       "</style>\n",
       "<table border=\"1\" class=\"dataframe\">\n",
       "  <thead>\n",
       "    <tr style=\"text-align: right;\">\n",
       "      <th></th>\n",
       "      <th>Count</th>\n",
       "      <th>Amount (Rs.)</th>\n",
       "    </tr>\n",
       "    <tr>\n",
       "      <th></th>\n",
       "      <th></th>\n",
       "      <th></th>\n",
       "    </tr>\n",
       "  </thead>\n",
       "  <tbody>\n",
       "    <tr>\n",
       "      <th>Total Orders where X has been correctly charged</th>\n",
       "      <td>14</td>\n",
       "      <td>881.3</td>\n",
       "    </tr>\n",
       "    <tr>\n",
       "      <th>Total Orders where X has been overcharged</th>\n",
       "      <td>101</td>\n",
       "      <td>6439.5</td>\n",
       "    </tr>\n",
       "    <tr>\n",
       "      <th>Total Orders where X has been undercharged</th>\n",
       "      <td>9</td>\n",
       "      <td>182.4</td>\n",
       "    </tr>\n",
       "  </tbody>\n",
       "</table>\n",
       "</div>"
      ],
      "text/plain": [
       "                                                 Count  Amount (Rs.)\n",
       "                                                                    \n",
       "Total Orders where X has been correctly charged     14         881.3\n",
       "Total Orders where X has been overcharged          101        6439.5\n",
       "Total Orders where X has been undercharged           9         182.4"
      ]
     },
     "execution_count": 59,
     "metadata": {},
     "output_type": "execute_result"
    }
   ],
   "source": [
    "summary_table"
   ]
  },
  {
   "cell_type": "code",
   "execution_count": 60,
   "id": "8801d477",
   "metadata": {},
   "outputs": [],
   "source": [
    "summary_table.to_excel('Summary Table.xlsx', index=True)"
   ]
  },
  {
   "cell_type": "code",
   "execution_count": 61,
   "id": "c4d8823f",
   "metadata": {},
   "outputs": [],
   "source": [
    "comparison_table.to_excel('Comparison Table.xlsx', index=False)"
   ]
  },
  {
   "cell_type": "code",
   "execution_count": null,
   "id": "ec57433c",
   "metadata": {},
   "outputs": [],
   "source": []
  }
 ],
 "metadata": {
  "kernelspec": {
   "display_name": "Python 3 (ipykernel)",
   "language": "python",
   "name": "python3"
  },
  "language_info": {
   "codemirror_mode": {
    "name": "ipython",
    "version": 3
   },
   "file_extension": ".py",
   "mimetype": "text/x-python",
   "name": "python",
   "nbconvert_exporter": "python",
   "pygments_lexer": "ipython3",
   "version": "3.9.13"
  }
 },
 "nbformat": 4,
 "nbformat_minor": 5
}
